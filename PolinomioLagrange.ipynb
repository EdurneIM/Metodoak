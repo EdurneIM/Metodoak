{
  "nbformat": 4,
  "nbformat_minor": 0,
  "metadata": {
    "colab": {
      "provenance": [],
      "include_colab_link": true
    },
    "kernelspec": {
      "name": "python3",
      "display_name": "Python 3"
    },
    "language_info": {
      "name": "python"
    }
  },
  "cells": [
    {
      "cell_type": "markdown",
      "metadata": {
        "id": "view-in-github",
        "colab_type": "text"
      },
      "source": [
        "<a href=\"https://colab.research.google.com/github/EdurneIM/Metodoak/blob/main/PolinomioLagrange.ipynb\" target=\"_parent\"><img src=\"https://colab.research.google.com/assets/colab-badge.svg\" alt=\"Open In Colab\"/></a>"
      ]
    },
    {
      "cell_type": "markdown",
      "source": [
        "\n",
        "# Interpolación con Polinomios de Lagrange\n"
      ],
      "metadata": {
        "id": "BCvpmQnQhNLL"
      }
    },
    {
      "cell_type": "code",
      "source": [
        "from decimal import Decimal\n",
        "\n",
        "def lagrange_interpolation(points):\n",
        "    n = len(points)\n",
        "    result = Decimal(0)\n",
        "    for i in range(n):\n",
        "        xi, yi = points[i]\n",
        "        term = yi\n",
        "        for j in range(n):\n",
        "            if i != j:\n",
        "                xj, yj = points[j]\n",
        "                term *= (x - xj) / Decimal(xi - xj)\n",
        "        result += term\n",
        "    return round(result, 6)\n",
        "\n",
        "# Solicitar los puntos al usuario\n",
        "points = []\n",
        "n = int(input(\"Ingrese el número de puntos: \"))\n",
        "for i in range(n):\n",
        "    x = Decimal(input(\"Ingrese x: \"))\n",
        "    y = Decimal(input(\"Ingrese y: \"))\n",
        "    points.append((x,y))\n",
        "\n",
        "# Calcular el polinomio interpolador de Lagrange\n",
        "x = Decimal(input(\"Ingrese el valor de x para evaluar el polinomio interpolador: \"))\n",
        "result = lagrange_interpolation(points)\n",
        "\n",
        "print(\"El valor del polinomio interpolador en x = {} es: {}\".format(x, result))\n",
        "\n"
      ],
      "metadata": {
        "id": "gfQT5Y4-vUx4",
        "colab": {
          "base_uri": "https://localhost:8080/"
        },
        "outputId": "433a1bb1-2497-48ee-ebc8-92c47d31e7f8"
      },
      "execution_count": null,
      "outputs": [
        {
          "output_type": "stream",
          "name": "stdout",
          "text": [
            "Ingrese el número de puntos: 5\n",
            "Ingrese x: 0\n",
            "Ingrese y: 1\n",
            "Ingrese x: 0.2\n",
            "Ingrese y: 0.9615\n",
            "Ingrese x: 0.4\n",
            "Ingrese y: 0.862\n",
            "Ingrese x: 0.6\n",
            "Ingrese y: 0.735\n",
            "Ingrese x: 0.8\n",
            "Ingrese y: 0.609\n",
            "Ingrese el valor de x para evaluar el polinomio interpolador: 0.5\n",
            "El valor del polinomio interpolador en x = 0.5 es: 0.800039\n"
          ]
        }
      ]
    }
  ]
}