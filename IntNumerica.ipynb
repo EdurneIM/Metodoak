{
  "nbformat": 4,
  "nbformat_minor": 0,
  "metadata": {
    "colab": {
      "provenance": [],
      "toc_visible": true,
      "history_visible": true,
      "include_colab_link": true
    },
    "kernelspec": {
      "name": "python3",
      "display_name": "Python 3"
    },
    "language_info": {
      "name": "python"
    }
  },
  "cells": [
    {
      "cell_type": "markdown",
      "metadata": {
        "id": "view-in-github",
        "colab_type": "text"
      },
      "source": [
        "<a href=\"https://colab.research.google.com/github/EdurneIM/Metodoak/blob/main/IntNumerica.ipynb\" target=\"_parent\"><img src=\"https://colab.research.google.com/assets/colab-badge.svg\" alt=\"Open In Colab\"/></a>"
      ]
    },
    {
      "cell_type": "code",
      "execution_count": null,
      "metadata": {
        "colab": {
          "base_uri": "https://localhost:8080/"
        },
        "id": "iBZWu5HWZEFV",
        "outputId": "2ff47064-4330-4840-8523-1345bd7d6cf8"
      },
      "outputs": [
        {
          "output_type": "stream",
          "name": "stdout",
          "text": [
            "Ingrese la lista de valores de x separados por un espacio: 0 0.5 1 1.5 2 2.5 3 3.5 4 4.5 5\n",
            "Ingrese la lista de valores de f(x) separados por un espacio: 0 0.25 1 2.25 4 6.25 9 12.25 16 20.25 25\n",
            "Aproximación de la integral mediante el método de los trapecios simple: 41.875\n",
            "Aproximación de la integral mediante el método de Simpson simple: 41.666666666666664\n"
          ]
        }
      ],
      "source": [
        "# Definimos la función para el método de los trapecios simple\n",
        "def trapezoid(f, a, b, h):\n",
        "    n = int((b - a)/h)\n",
        "    integral = 0\n",
        "    for i in range(1, n):\n",
        "        integral += f[i]\n",
        "    integral += (f[0] + f[n])/2\n",
        "    integral *= h\n",
        "    return integral\n",
        "\n",
        "# Definimos la función para el método de Simpson simple\n",
        "def simpson(f, a, b, h):\n",
        "    n = int((b - a)/(h))\n",
        "    integral = 0\n",
        "    for i in range(0, n+1):\n",
        "        if i == 0 or i == n:\n",
        "            integral += f[i]\n",
        "        elif i % 2 == 1:\n",
        "            integral += 4*f[i]\n",
        "        else:\n",
        "            integral += 2*f[i]\n",
        "    integral *= h/3\n",
        "    return integral\n",
        "\n",
        "# Pedimos al usuario ingresar la lista de valores x y f(x)\n",
        "x = input(\"Ingrese la lista de valores de x separados por un espacio: \").split()\n",
        "x = [float(xi) for xi in x]\n",
        "fx = input(\"Ingrese la lista de valores de f(x) separados por un espacio: \").split()\n",
        "fx = [float(fxi) for fxi in fx]\n",
        "\n",
        "# Determinamos automáticamente x_min y x_max\n",
        "x_min = min(x)\n",
        "x_max = max(x)\n",
        "\n",
        "# Calculamos la aproximación de la integral mediante el método de los trapecios simple\n",
        "h = x[1] - x[0]\n",
        "trap_approx = trapezoid(fx, x_min, x_max, h)\n",
        "\n",
        "# Calculamos la aproximación de la integral mediante el método de Simpson simple\n",
        "simpson_approx = simpson(fx, x_min, x_max, h)\n",
        "\n",
        "# Imprimimos los resultados\n",
        "print(\"Aproximación de la integral mediante el método de los trapecios simple:\", trap_approx)\n",
        "print(\"Aproximación de la integral mediante el método de Simpson simple:\", simpson_approx)\n"
      ]
    }
  ]
}