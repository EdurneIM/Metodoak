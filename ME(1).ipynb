{
  "nbformat": 4,
  "nbformat_minor": 0,
  "metadata": {
    "colab": {
      "provenance": [],
      "include_colab_link": true
    },
    "kernelspec": {
      "name": "python3",
      "display_name": "Python 3"
    },
    "language_info": {
      "name": "python"
    }
  },
  "cells": [
    {
      "cell_type": "markdown",
      "metadata": {
        "id": "view-in-github",
        "colab_type": "text"
      },
      "source": [
        "<a href=\"https://colab.research.google.com/github/EdurneIM/Metodoak/blob/main/ME(1).ipynb\" target=\"_parent\"><img src=\"https://colab.research.google.com/assets/colab-badge.svg\" alt=\"Open In Colab\"/></a>"
      ]
    },
    {
      "cell_type": "code",
      "execution_count": null,
      "metadata": {
        "id": "InHrx0Mcu7dp"
      },
      "outputs": [],
      "source": [
        "import sympy as sp\n",
        "import pandas as pd\n",
        "from sympy import lambdify\n",
        "\n",
        "def euler_method(f, t0, y0, h, num_points):\n",
        "    t = sp.Symbol('t')\n",
        "    y = sp.Symbol('y')\n",
        "    f = sp.lambdify([t, y], f)\n",
        "    times = [t0]\n",
        "    function_evaluada = [y0]\n",
        "\n",
        "    for _ in range(num_points - 1):\n",
        "        tn = times[-1]\n",
        "        yn = function_evaluada[-1]\n",
        "        fn = f(tn,yn)\n",
        "        yn1 = yn + h * fn\n",
        "        tn1 = tn + h\n",
        "        times.append(tn1)\n",
        "        function_evaluada.append(yn1)\n",
        "\n",
        "    return times, function_evaluada\n",
        "\n",
        "equation = input(\"Ingrese la ecuación diferencial (en términos de t e y): \")\n",
        "initial_t = float(input(\"Ingrese el valor inicial de t: \"))\n",
        "initial_y = float(input(\"Ingrese el valor inicial de y: \"))\n",
        "interval_length = float(input(\"Ingrese la longitud del intervalo: \"))\n",
        "num_points = int(input(\"Ingrese el número de puntos a calcular dentro del intervalo: \"))\n",
        "step_size = interval_length / (num_points - 1)\n",
        "\n",
        "times, function_evaluada = euler_method(equation, initial_t, initial_y, step_size, num_points)\n",
        "\n",
        "data = {'t': times, 'y(t)': function_evaluada}\n",
        "df = pd.DataFrame(data)\n",
        "\n",
        "print(df.to_string(index=False))\n"
      ]
    }
  ]
}