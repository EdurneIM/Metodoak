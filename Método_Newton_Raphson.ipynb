{
  "cells": [
    {
      "cell_type": "markdown",
      "metadata": {
        "id": "view-in-github",
        "colab_type": "text"
      },
      "source": [
        "<a href=\"https://colab.research.google.com/github/EdurneIM/Metodoak/blob/main/Me%CC%81todo_Newton_Raphson.ipynb\" target=\"_parent\"><img src=\"https://colab.research.google.com/assets/colab-badge.svg\" alt=\"Open In Colab\"/></a>"
      ]
    },
    {
      "cell_type": "markdown",
      "source": [
        "\n",
        "\n",
        "```\n",
        "# Tiene formato de código\n",
        "```\n",
        "\n",
        "# Método de Raphson-Newton"
      ],
      "metadata": {
        "id": "54EfOpS7mFNh"
      }
    },
    {
      "cell_type": "code",
      "source": [
        "from sympy import *\n",
        "import numpy as np\n",
        "from tabulate import tabulate\n",
        "\n",
        "# Definir la función\n",
        "x = symbols('x')\n",
        "expr = input(\"Introduce la función en términos de 'x': \")\n",
        "f = sympify(expr)\n",
        "\n",
        "# Pedir entrada del usuario para el punto inicial y la tolerancia\n",
        "x0 = float(input(\"Introduce el valor inicial: \"))\n",
        "tol = float(input(\"Introduce la tolerancia: \"))\n",
        "\n",
        "# Derivar la función simbólicamente\n",
        "df = diff(f, x)\n",
        "\n",
        "# Convertir la expresión derivada en una función numérica\n",
        "func = lambdify(x, f)\n",
        "dfunc = lambdify(x, df)\n",
        "\n",
        "# Implementar el método de Newton-Raphson\n",
        "iter = 0\n",
        "error = 1\n",
        "tabla = []\n",
        "\n",
        "while error > tol and iter < 1000:\n",
        "    fx = func(x0)\n",
        "    dfx = dfunc(x0)\n",
        "    xn = x0 - fx / dfx\n",
        "    error = abs(xn - x0)\n",
        "    x0 = xn\n",
        "    iter += 1\n",
        "    tabla.append([iter, xn, fx, dfx])\n",
        "\n",
        "# Mostrar los resultados\n",
        "header = [\"Iteración\", \"x\", \"f(x)\", \"f'(x)\"]\n",
        "n_decimales=-int(np.floor(np.log10(tol)))\n",
        "xn = round(xn, n_decimales)\n",
        "print(tabulate(tabla, headers=header))\n",
        "print(f\"La raíz es {xn} con un error inferior a {tol}\")"
      ],
      "metadata": {
        "id": "QiO5YEca1trg",
        "colab": {
          "base_uri": "https://localhost:8080/"
        },
        "outputId": "e3e10590-2bf5-4283-e16c-38f8b2d04c1c"
      },
      "execution_count": 2,
      "outputs": [
        {
          "output_type": "stream",
          "name": "stdout",
          "text": [
            "Introduce la función en términos de 'x': exp(x)-x-4\n",
            "Introduce el valor inicial: 1.2\n",
            "Introduce la tolerancia: 0.00000001\n",
            "  Iteración        x          f(x)    f'(x)\n",
            "-----------  -------  ------------  -------\n",
            "          1  2.01025  -1.87988      2.32012\n",
            "          2  1.78521   1.45496      6.46521\n",
            "          3  1.74981   0.17562      4.96083\n",
            "          4  1.74903   0.00369152   4.7535\n",
            "          5  1.74903   1.73449e-06  4.74903\n",
            "          6  1.74903   3.84581e-13  4.74903\n",
            "La raíz es 1.74903139 con un error inferior a 1e-08\n"
          ]
        }
      ]
    }
  ],
  "metadata": {
    "colab": {
      "provenance": [],
      "toc_visible": true,
      "history_visible": true,
      "include_colab_link": true
    },
    "kernelspec": {
      "display_name": "Python 3",
      "name": "python3"
    }
  },
  "nbformat": 4,
  "nbformat_minor": 0
}