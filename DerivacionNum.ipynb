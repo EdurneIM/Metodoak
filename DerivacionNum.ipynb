{
  "nbformat": 4,
  "nbformat_minor": 0,
  "metadata": {
    "colab": {
      "provenance": [],
      "include_colab_link": true
    },
    "kernelspec": {
      "name": "python3",
      "display_name": "Python 3"
    },
    "language_info": {
      "name": "python"
    }
  },
  "cells": [
    {
      "cell_type": "markdown",
      "metadata": {
        "id": "view-in-github",
        "colab_type": "text"
      },
      "source": [
        "<a href=\"https://colab.research.google.com/github/EdurneIM/Metodoak/blob/main/DerivacionNum.ipynb\" target=\"_parent\"><img src=\"https://colab.research.google.com/assets/colab-badge.svg\" alt=\"Open In Colab\"/></a>"
      ]
    },
    {
      "cell_type": "code",
      "execution_count": null,
      "metadata": {
        "id": "WYI0_ES_Ow2o"
      },
      "outputs": [],
      "source": [
        "def derivada_numerica(x, fx):\n",
        "    tabla = []\n",
        "    tabla.append([\"x\", \"f(x)\", \"f'(x) (adel.)\", \"f'(x) (atras)\", \"f'(x) (cent.)\"])\n",
        "\n",
        "    n = len(x)\n",
        "    for i in range(n):\n",
        "        fila = [x[i], fx[i]]\n",
        "\n",
        "        # Derivada hacia adelante\n",
        "        if i < n - 1:\n",
        "            h = x[i+1] - x[i]\n",
        "            if h != 0:\n",
        "                df = (fx[i+1] - fx[i]) / h\n",
        "                fila.append(df)\n",
        "            else:\n",
        "                fila.append(\"/\")\n",
        "        else:\n",
        "            fila.append(\"/\")\n",
        "\n",
        "        # Derivada hacia atras\n",
        "        if i > 0:\n",
        "            h = x[i] - x[i-1]\n",
        "            if h != 0:\n",
        "                df = (fx[i] - fx[i-1]) / h\n",
        "                fila.append(df)\n",
        "            else:\n",
        "                fila.append(\"/\")\n",
        "        else:\n",
        "            fila.append(\"/\")\n",
        "\n",
        "        # Derivada centrada\n",
        "        if i > 0 and i < n - 1:\n",
        "            h = x[i+1] - x[i-1]\n",
        "            if h != 0:\n",
        "                df = (fx[i+1] - fx[i-1]) / h\n",
        "                fila.append(df)\n",
        "            else:\n",
        "                fila.append(\"/\")\n",
        "        else:\n",
        "            fila.append(\"/\")\n",
        "\n",
        "        tabla.append(fila)\n",
        "\n",
        "    return tabla\n",
        "\n",
        "def main():\n",
        "    # Pedir al usuario ambas listas\n",
        "    x_list = input(\"Introduce los valores de x separados por comas: \").split(\",\")\n",
        "    fx_list = input(\"Introduce los valores de f(x) separados por comas: \").split(\",\")\n",
        "\n",
        "    # Convertir las listas a flotantes\n",
        "    x_list = [float(x) for x in x_list]\n",
        "    fx_list = [float(fx) for fx in fx_list]\n",
        "\n",
        "    # Calcular las derivadas numéricas y mostrar la tabla\n",
        "    tabla = derivada_numerica(x_list, fx_list)\n",
        "    for fila in tabla:\n",
        "        print(\"{:^10.5}{:^10.5}{:^20.15}{:^20.15}{:^20.15}\".format(*fila))\n",
        "\n",
        "if __name__ == \"__main__\":\n",
        "    main()\n"
      ]
    }
  ]
}